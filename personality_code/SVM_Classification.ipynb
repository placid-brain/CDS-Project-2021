{
  "nbformat": 4,
  "nbformat_minor": 0,
  "metadata": {
    "colab": {
      "name": "Preliminary project.ipynb",
      "provenance": [],
      "collapsed_sections": []
    },
    "kernelspec": {
      "name": "python3",
      "display_name": "Python 3"
    },
    "language_info": {
      "name": "python"
    }
  },
  "cells": [
    {
      "cell_type": "code",
      "metadata": {
        "id": "dgxmydlg0UE4"
      },
      "source": [
        "import pandas as pd\n",
        "import numpy as np\n",
        "import matplotlib.pyplot as plt\n",
        "import nltk\n",
        "from nltk.corpus import stopwords\n",
        "import re\n",
        "from tensorflow.keras.preprocessing.text import one_hot\n",
        "from tensorflow.keras.preprocessing.sequence import pad_sequences\n",
        "import time"
      ],
      "execution_count": null,
      "outputs": []
    },
    {
      "cell_type": "code",
      "metadata": {
        "colab": {
          "base_uri": "https://localhost:8080/",
          "height": 424
        },
        "id": "3R4sGByL0gJm",
        "outputId": "5c195f04-27c4-4063-f3a6-5f9a94b3dc13"
      },
      "source": [
        "df=pd.read_csv(\"/content/mbti_1.csv\")\n",
        "df"
      ],
      "execution_count": null,
      "outputs": [
        {
          "output_type": "execute_result",
          "data": {
            "text/html": [
              "<div>\n",
              "<style scoped>\n",
              "    .dataframe tbody tr th:only-of-type {\n",
              "        vertical-align: middle;\n",
              "    }\n",
              "\n",
              "    .dataframe tbody tr th {\n",
              "        vertical-align: top;\n",
              "    }\n",
              "\n",
              "    .dataframe thead th {\n",
              "        text-align: right;\n",
              "    }\n",
              "</style>\n",
              "<table border=\"1\" class=\"dataframe\">\n",
              "  <thead>\n",
              "    <tr style=\"text-align: right;\">\n",
              "      <th></th>\n",
              "      <th>type</th>\n",
              "      <th>posts</th>\n",
              "    </tr>\n",
              "  </thead>\n",
              "  <tbody>\n",
              "    <tr>\n",
              "      <th>0</th>\n",
              "      <td>INFJ</td>\n",
              "      <td>'http://www.youtube.com/watch?v=qsXHcwe3krw|||...</td>\n",
              "    </tr>\n",
              "    <tr>\n",
              "      <th>1</th>\n",
              "      <td>ENTP</td>\n",
              "      <td>'I'm finding the lack of me in these posts ver...</td>\n",
              "    </tr>\n",
              "    <tr>\n",
              "      <th>2</th>\n",
              "      <td>INTP</td>\n",
              "      <td>'Good one  _____   https://www.youtube.com/wat...</td>\n",
              "    </tr>\n",
              "    <tr>\n",
              "      <th>3</th>\n",
              "      <td>INTJ</td>\n",
              "      <td>'Dear INTP,   I enjoyed our conversation the o...</td>\n",
              "    </tr>\n",
              "    <tr>\n",
              "      <th>4</th>\n",
              "      <td>ENTJ</td>\n",
              "      <td>'You're fired.|||That's another silly misconce...</td>\n",
              "    </tr>\n",
              "    <tr>\n",
              "      <th>...</th>\n",
              "      <td>...</td>\n",
              "      <td>...</td>\n",
              "    </tr>\n",
              "    <tr>\n",
              "      <th>8670</th>\n",
              "      <td>ISFP</td>\n",
              "      <td>'https://www.youtube.com/watch?v=t8edHB_h908||...</td>\n",
              "    </tr>\n",
              "    <tr>\n",
              "      <th>8671</th>\n",
              "      <td>ENFP</td>\n",
              "      <td>'So...if this thread already exists someplace ...</td>\n",
              "    </tr>\n",
              "    <tr>\n",
              "      <th>8672</th>\n",
              "      <td>INTP</td>\n",
              "      <td>'So many questions when i do these things.  I ...</td>\n",
              "    </tr>\n",
              "    <tr>\n",
              "      <th>8673</th>\n",
              "      <td>INFP</td>\n",
              "      <td>'I am very conflicted right now when it comes ...</td>\n",
              "    </tr>\n",
              "    <tr>\n",
              "      <th>8674</th>\n",
              "      <td>INFP</td>\n",
              "      <td>'It has been too long since I have been on per...</td>\n",
              "    </tr>\n",
              "  </tbody>\n",
              "</table>\n",
              "<p>8675 rows × 2 columns</p>\n",
              "</div>"
            ],
            "text/plain": [
              "      type                                              posts\n",
              "0     INFJ  'http://www.youtube.com/watch?v=qsXHcwe3krw|||...\n",
              "1     ENTP  'I'm finding the lack of me in these posts ver...\n",
              "2     INTP  'Good one  _____   https://www.youtube.com/wat...\n",
              "3     INTJ  'Dear INTP,   I enjoyed our conversation the o...\n",
              "4     ENTJ  'You're fired.|||That's another silly misconce...\n",
              "...    ...                                                ...\n",
              "8670  ISFP  'https://www.youtube.com/watch?v=t8edHB_h908||...\n",
              "8671  ENFP  'So...if this thread already exists someplace ...\n",
              "8672  INTP  'So many questions when i do these things.  I ...\n",
              "8673  INFP  'I am very conflicted right now when it comes ...\n",
              "8674  INFP  'It has been too long since I have been on per...\n",
              "\n",
              "[8675 rows x 2 columns]"
            ]
          },
          "metadata": {},
          "execution_count": 3
        }
      ]
    },
    {
      "cell_type": "code",
      "metadata": {
        "id": "NJriMIA69VYR",
        "colab": {
          "base_uri": "https://localhost:8080/"
        },
        "outputId": "98043135-229f-4c28-d6b9-b7d291b87f3d"
      },
      "source": [
        "import nltk\n",
        "from nltk.corpus import stopwords\n",
        "import re\n",
        "\n",
        "nltk.download('stopwords')\n",
        "\n",
        "\n",
        "REPLACE_BY_SPACE_RE = re.compile('[/(){}\\[\\]\\|@,;]')\n",
        "BAD_SYMBOLS_RE = re.compile('[^0-9a-z #+_]')\n",
        "STOPWORDS = set(stopwords.words('english'))\n",
        "\n",
        "def clean_text(text):\n",
        "    \n",
        "    text = text.lower() # lowercase text\n",
        "    text = REPLACE_BY_SPACE_RE.sub(' ', text) # replace REPLACE_BY_SPACE_RE symbols by space in text\n",
        "    text = BAD_SYMBOLS_RE.sub('', text) # delete symbols which are in BAD_SYMBOLS_RE from text\n",
        "    text = ' '.join(word for word in text.split() if word not in STOPWORDS) # delete stopwors from text\n",
        "    return text"
      ],
      "execution_count": null,
      "outputs": [
        {
          "output_type": "stream",
          "name": "stdout",
          "text": [
            "[nltk_data] Downloading package stopwords to /root/nltk_data...\n",
            "[nltk_data]   Package stopwords is already up-to-date!\n"
          ]
        }
      ]
    },
    {
      "cell_type": "code",
      "metadata": {
        "id": "sinPBpyV9X_u",
        "colab": {
          "base_uri": "https://localhost:8080/",
          "height": 424
        },
        "outputId": "ab200819-d4e4-4fc9-e0cd-355fca930bca"
      },
      "source": [
        "df[\"posts\"]=df[\"posts\"].apply(clean_text)\n",
        "df"
      ],
      "execution_count": null,
      "outputs": [
        {
          "output_type": "execute_result",
          "data": {
            "text/html": [
              "<div>\n",
              "<style scoped>\n",
              "    .dataframe tbody tr th:only-of-type {\n",
              "        vertical-align: middle;\n",
              "    }\n",
              "\n",
              "    .dataframe tbody tr th {\n",
              "        vertical-align: top;\n",
              "    }\n",
              "\n",
              "    .dataframe thead th {\n",
              "        text-align: right;\n",
              "    }\n",
              "</style>\n",
              "<table border=\"1\" class=\"dataframe\">\n",
              "  <thead>\n",
              "    <tr style=\"text-align: right;\">\n",
              "      <th></th>\n",
              "      <th>type</th>\n",
              "      <th>posts</th>\n",
              "    </tr>\n",
              "  </thead>\n",
              "  <tbody>\n",
              "    <tr>\n",
              "      <th>0</th>\n",
              "      <td>INFJ</td>\n",
              "      <td>http wwwyoutubecom watchvqsxhcwe3krw http 41me...</td>\n",
              "    </tr>\n",
              "    <tr>\n",
              "      <th>1</th>\n",
              "      <td>ENTP</td>\n",
              "      <td>im finding lack posts alarming sex boring posi...</td>\n",
              "    </tr>\n",
              "    <tr>\n",
              "      <th>2</th>\n",
              "      <td>INTP</td>\n",
              "      <td>good one _____ https wwwyoutubecom watchvfhigb...</td>\n",
              "    </tr>\n",
              "    <tr>\n",
              "      <th>3</th>\n",
              "      <td>INTJ</td>\n",
              "      <td>dear intp enjoyed conversation day esoteric ga...</td>\n",
              "    </tr>\n",
              "    <tr>\n",
              "      <th>4</th>\n",
              "      <td>ENTJ</td>\n",
              "      <td>youre fired thats another silly misconception ...</td>\n",
              "    </tr>\n",
              "    <tr>\n",
              "      <th>...</th>\n",
              "      <td>...</td>\n",
              "      <td>...</td>\n",
              "    </tr>\n",
              "    <tr>\n",
              "      <th>8670</th>\n",
              "      <td>ISFP</td>\n",
              "      <td>https wwwyoutubecom watchvt8edhb_h908 ixfp alw...</td>\n",
              "    </tr>\n",
              "    <tr>\n",
              "      <th>8671</th>\n",
              "      <td>ENFP</td>\n",
              "      <td>soif thread already exists someplace else http...</td>\n",
              "    </tr>\n",
              "    <tr>\n",
              "      <th>8672</th>\n",
              "      <td>INTP</td>\n",
              "      <td>many questions things would take purple pill p...</td>\n",
              "    </tr>\n",
              "    <tr>\n",
              "      <th>8673</th>\n",
              "      <td>INFP</td>\n",
              "      <td>conflicted right comes wanting children honest...</td>\n",
              "    </tr>\n",
              "    <tr>\n",
              "      <th>8674</th>\n",
              "      <td>INFP</td>\n",
              "      <td>long since personalitycafe although doesnt see...</td>\n",
              "    </tr>\n",
              "  </tbody>\n",
              "</table>\n",
              "<p>8675 rows × 2 columns</p>\n",
              "</div>"
            ],
            "text/plain": [
              "      type                                              posts\n",
              "0     INFJ  http wwwyoutubecom watchvqsxhcwe3krw http 41me...\n",
              "1     ENTP  im finding lack posts alarming sex boring posi...\n",
              "2     INTP  good one _____ https wwwyoutubecom watchvfhigb...\n",
              "3     INTJ  dear intp enjoyed conversation day esoteric ga...\n",
              "4     ENTJ  youre fired thats another silly misconception ...\n",
              "...    ...                                                ...\n",
              "8670  ISFP  https wwwyoutubecom watchvt8edhb_h908 ixfp alw...\n",
              "8671  ENFP  soif thread already exists someplace else http...\n",
              "8672  INTP  many questions things would take purple pill p...\n",
              "8673  INFP  conflicted right comes wanting children honest...\n",
              "8674  INFP  long since personalitycafe although doesnt see...\n",
              "\n",
              "[8675 rows x 2 columns]"
            ]
          },
          "metadata": {},
          "execution_count": 5
        }
      ]
    },
    {
      "cell_type": "code",
      "metadata": {
        "id": "1RLUAJ0E9aUT",
        "colab": {
          "base_uri": "https://localhost:8080/"
        },
        "outputId": "72b1ff61-cc22-4889-ff9b-e4044ec52e36"
      },
      "source": [
        "post_list = []\n",
        "for i in range(0,8675):\n",
        "    post_list.append(df.iloc[i,1])\n",
        "print(post_list[0:5])"
      ],
      "execution_count": null,
      "outputs": [
        {
          "output_type": "stream",
          "name": "stdout",
          "text": [
            "['http wwwyoutubecom watchvqsxhcwe3krw http 41mediatumblrcom tumblr_lfouy03pma1qa1rooo1_500jpg enfp intj moments https wwwyoutubecom watchviz7le1g4xm4 sportscenter top ten plays https wwwyoutubecom watchvucdfze1etec pranks lifechanging experience life http wwwyoutubecom watchvvxzeywwrdw8 http wwwyoutubecom watchvu8ejam5dp3e repeat today may perc experience immerse last thing infj friend posted facebook committing suicide next day rest peace http vimeocom 22842206 hello enfj7 sorry hear distress natural relationship perfection time every moment existence try figure hard times times growth 84389 84390 http wallpaperpassioncom upload 23700 friendshipboyandgirlwallpaperjpg http assetsdornobcom wpcontent uploads 2010 04 roundhomedesignjpg welcome stuff http playeressencecom wpcontent uploads 2013 08 redredthepokemonmaster32560474450338jpg game set match prozac wellbrutin least thirty minutes moving legs dont mean moving sitting desk chair weed moderation maybe try edibles healthier alternative basically come three items youve determined type whichever types want would likely use given types cognitive functions whatnot left things moderation sims indeed video game good one note good one somewhat subjective completely promoting death given sim dear enfp favorite video games growing current favorite video games cool https wwwyoutubecom watchvqypqt8umzmy appears late sad theres someone everyone wait thought confidence good thing cherish time solitude b c revel within inner world whereas time id workin enjoy time dont worry people always around yo entp ladies youre complimentary personality well hey main social outlet xbox live conversations even verbally fatigue quickly http wwwyoutubecom watchvgdhy7rdfm14 really dig part 146 250 http wwwyoutubecom watchvmsqxffgh7b8 banned thread requires get high backyard roast eat marshmellows backyard conversing something intellectual followed massages kisses http wwwyoutubecom watchvmw7eou3bmbe http wwwyoutubecom watchv4v2uyorhqok http wwwyoutubecom watchvslvmgfqq0ti banned many bs sentence could think b banned watching movies corner dunces banned health class clearly taught nothing peer pressure banned whole host reasons http wwwyoutubecom watchvircrv41hgz4 1 two baby deer left right munching beetle middle 2 using blood two cavemen diary todays latest happenings designated cave diary wall 3 see pokemon world infj society everyone becomes optimist 49142 http wwwyoutubecom watchvzrceq_jfefm http discovermagazinecom 2012 julaug 20thingsyoudidntknowaboutdeserts desertjpg http oysterignimgscom mediawiki apisigncom pokemonsilverversion dd dittogif http wwwserebiinet potwdp scizorjpg artists artists draw idea counts forming something like signature welcome robot ranks person downed selfesteem cuz im avid signature artist like proud banned taking room bed ya gotta learn share roaches http wwwyoutubecom watchvw8igimn57aq banned much thundering grumbling kind storm yep ahh old high school music havent heard ages http wwwyoutubecom watchvdccrupcdb1w failed public speaking class years ago ive sort learned could better position big part failure overloading like persons mentality hes confirmed intj way http wwwyoutubecom watchvhgkligec6m move denver area start new life', 'im finding lack posts alarming sex boring position often example girlfriend currently environment creatively use cowgirl missionary isnt enough giving new meaning game theory hello entp grin thats takes converse flirting acknowledge presence return words smooth wordplay cheeky grins + lack balance hand eye coordination real iq test score 127 internet iq tests funny score 140s higher like former responses thread mention dont believe iq test banish know youre entp vanish site year half return find people still commenting posts liking ideas thoughts know youre entp http img188imageshackus img188 6422 6020d1f9da6944a6b71bbe6jpg http imgadultdvdtalkcom 813a0c6243814cab84c51 think things sometimes go old sherlock holmes quote perhaps man special knowledge special powers like rather encourages seek complex cheshirewolftumblrcom 400 000+ post really ive never thought e j p real functions judge use use ne ti dominates fe emotions rarely si also use ni due strength know though ingenious saying really want try see happens playing first person shooter back drive around want see look rock paper one best makes lol guys lucky im really high tumblr system hear new first person shooter game ive rocking hell soundtrack auto sound equipment shake heavens managed put couple ps3s way connected things ne ne dominates aware environments se dominates example shawn spencer patrick jane entps well charlie first admit get jealous like chalk 4w3 heart mixed dominate 7w8 7s 8s like noticed 4s like known ill upload clip mic away mouth wont hear anything ninja assassin style splatter tik tok really great song long mental block singer love beat makes bounce dropio v1swck0 mic really close mouth smokin aces assassins ball playing background sociable extrovert im extrovert im sociable sherlock movie entp normally hes played extj books hes estj said movie looked good except called sherlock holmes http i817photobucketcom albums zz96 kamioo dirtywinchpng oh never fear kissing guy kiss animal nothing vanish personal taste liking guy kissed didnt know one sounds pretty much like area im going right trying figure way want take life want many things biggest problem know dont operating impression female never looked boxy okay help gay friends time one developed little crush get red t_t described im living worst nightmare im trapped one place one one around dull woods serial killer would perfect place sadly im tbh biased sounds like shadowed infp think maybe hurt turned estj tell typical infp traits left checks list im sorry seems came bad time weve already reached quota infjs however youre female like females make deal kick one im antp leaning toward e im easy entps intps identify also imagine entps interrogations would go little bit like jacks 24 except mechanical rigging shock treatment equipment abandoned building old car batty jumper compliment trust im psychopathic except emoticons theyre weird ones like laughing get hurt people running lawn mower http i817photobucketcom albums zz96 kamioo thunderstormpnghttp i817photobucketcom albums zz96 kamioo thunderstormbwpng http i817photobucketcom albums zz96 kamioo cosmicstormpng like theme live know heart http wwwyoutubecom watchvj5w73havqbg usual dont leave thing ends mean time times work thing ill work mine im mbp pleasure meet damn need trust instincts would closer going say infp exfp leaning toward way responded friends even gay lesbian ones always come advice bow entp masters entps great wasnt entps wouldnt able build im building duck duck duck shotgun never hard sad losing someone like knew right give big pat back youre awesome always correct oh dont tell stupid know play makes laugh im going take neuropsychology psychologist im nightowl wake 67pm stay awake till 101130am personal opinion backed theory would suggest intps socially difficult intjs socially indifferent also use social situations need arises personal stocks desktop ive downloaded random stock sites stock photobuckets ill tell open photoshop glad like static thanks http i817photobucketcom albums zz96 kamioo deathgrippng http i817photobucketcom albums zz96 kamioo deathgripbwpng made friend several hours work constructed every line static http i817photobucketcom albums zz96 kamioo statickittenpng ill get avatar later one fellow teammates doesnt psychologist dont keep around long enough diagnosis like toy diagnosis psychologist friends + friends tell', 'good one _____ https wwwyoutubecom watchvfhigbolffgw course say know thats blessing curse absolutely positive best friend could amazing couple count yes could madly love case reconciled feelings didnt thank link socalled tisi loop stem current topic obsession deadly like youre stuck thoughts mind wanders circles feels truly terrible noticed peculiar vegetation look grass dozens different plant species imagine hundreds years later soil smiths never one ever often find spotting faces marble tiles wood 5 yearold sentence incredibly accurate beautiful description havent visited website last 3 years whoever reads maybe even remembers highly doubt hi 700049 700057 sit garden 1030 pm writing songs sing together dozens crickets playing acoustic guitar intpish thread ive ever seen wouldnt able look painting entire life knew picked human drawing background animation im working right mars felt obligated make mark watneyx92s postcard read book started make comics turtle gordon unicorn chimes see two first stories https wwwtumblrcom blog alexxxandra intj recently started post comics two friends turtle gordon unicorn chimes posted stuff interested ill try include works probably could work together new model im expert abrupt explosions laughter upon various weird stuff happens peculiar sense humor peculiar much hellooo nah touch everyone thinks scared sad thats true fact absolutely neutral face kitten actually really likes patting hugs well kind already mentioned sometimes ni hard convey complex stuff pops head whimsical compilations shapes pictures words think kitten would appropriate 376562 367034 good night everyone even someone morning right nights always supersede mornings people say good night order meet next day oh movie awesome thank hope good sleep air anyway im wishing good night next night ahead hopefully land good people deserve good 358882 358890 well people may wondering issue name topic find response helpful anyway finally someone mentioned still see creatures faces maze various random patterns amusing sometimes handy skill youre bored oh didnt know pity sacrifice whole supermarket decide walmart best think biggest one would great yippy go 357002 thinks fire delicious sacrifice tofu dont like waste food dont think creator thread cares whats going 3 years heh understand given languages yessss adventure time get angry quite rarely safer surrounding people go somewhere else impossible hide suppress anger way get rid feeling burst ive never liked anything fake bad actually hugs given chosen ones chosen quite though 349890 yup youre right http alexxxandratumblrcom 256818 course comfortable human race survived thankfully womens ability give birth human beings worked thousands years change besides happens occurs often people use results extremely precise elaborate online tests basis determining ones type visual language arts 246386 study graphic design really enjoy interesting field ability generate ideas solve problems much important possession specific alexxxandra97 deviantart 236994 http wwwyoutubecom watchv2nkcn8m9m0m always ready discipline intimidate precise siblings offender world domination shooting people head oh right intjs always must characterised words want show badly reaction 221226 218106 istp http wwwyoutubecom watchv7ghqoyxmaue', 'dear intp enjoyed conversation day esoteric gabbing nature universe idea every rule social code arbitrary constructs created dear entj sub long time see sincerely alpha none types hurt deep existential ways want part probably sliding scale depends individual preferences like everything humanity draco malfoy also id say hes either 358 368 im either 358 385 though stacking somewhat arbitrary distinction make believe core indicates primary motivation hand every action therefore im particularly introverted extraverted personally said would say im somewhat unphased either social interactions alone id say crave anything dear type 9 infp absolute admiration refreshing youre great girlfriend wish didnt busy schedules could around one another often keep 2 still means 1 50 people ive probably seen 12 others today never understood fascination virtue rarity youre esfj train also right toyed idea op extrovert also awhile actually many conversations however im disinclined believe due op much close fi still esfj disagree definite esfj fe si mother worried sick similar feelings concerning entps collect shoes like status nothing communicates thing much pair jordans sure lets get weird back best insert previous post wow dont nobody got time fo dat jk u kno u mah boi well im sure everyone knows social primary doesnt necessarily equal social like people fine lately ive bit break comes thats pretty crappy sex life definitely business id definitely talk yeah lot longer think said dont think youre te operate assumptions op youre infj nothing else makes sense im saying whether actually mom makes fun virgin playful teasing stab dark dont think thats te hood im given work id say infj compare idea logic mine logic series makes sense tentatively intj still reading edit far belief youre things say appreciate level detail edit also relatively certain ni refreshing self reading instinctual variants god im hard social type wow useful thought wanna know favorite part fact ended annoyed intrigued xxfps far tell dislike j types normal life im mind enneatype mbti combination impossible cognition things motivate us said clearly observe many types common others sx hell https wwwyoutubecom watchvuelhwf8o7_u seriously toying idea 351 pretty aggressive controlling massive holier thou streak get know depth like 12 id say mostly emotional experience find depth study cognition interesting included mbti answer illustrate much enjoyed socionics interpret post wholehearted agreement real argument know asshole second baring teeth people seemingly lot say refuse address beyond single would refer op need literal analysis im happy provide said im going assume youre able read interpret symbolism doubt youll need much help sort thought process initial post connects generally accepted view type 3 type 3 motivated doesnt seem need explanation oh quite crushable huh back atcha 5am ill take get wanted come something clever almost 5am would give lot sex even bother asking youve already made mind extravert intuitive feeling youve already decided things evidently done wasnt sure listened sx music https wwwyoutubecom watchv7hcyx_y5xdo infp messaged picture going bed asked say goodnight asked say goodnight thought weird secretly like either way see point actual rarity skewed makes type seem rarer likely real contexts may one type class room high school wow math literally said numbers see glorified type even though saw around twohundred people really rough estimate jobs rarity context entire planet somewhat silly even assume greatest reports rarity intj encompass 1 planet sounds rare dont think one could say whatever culmination actions throughout lives equal potential sense everybody know everyones potential would agree however profess know type stating anything types motivations strike either wanting touch able dont lol', 'youre fired thats another silly misconception approaching logically going key unlocking whatever think entitled nobody wants approached bs guys really wants go superduperlongass vacation cmon guys boss doesnt listen get even approached logically everything never mind go permanent vacation two months wouldnt crazy idea really best employee thats may cooking wants reliable asset gone long entj employer lol like views unsolicited victim sometimes really like impoverished rap music https wwwyoutubecom watchvxh0va6_8mv8 probably would lost stonewalling insignificant idiot semantics didnt impact anything one thing stone wall critical shit would taken project gave something later court deposition wasnt skit actually happened verbatim reenactment ass ill flirt woman piece candy grocery store course use whatever disposal get want efficient manner possible means flirting http youtube pzbqamewtoe yes comments gave info shut went crush boss wanted know impress boss married wasnt interested whats thing callaendia infp girl entj facebook forum similar question ask times close together scenario similar 3x 11 25 modify suit others however like spotlight think easiest efficient approach tarp jigsaw mulcher thats personal preference entjs dont hump leg like chihuahua shit dumped girl college 6 month romp making late class said petty dead xd http youtube paghidsjkvq mbtipc perfect dont like dealing middle men either talk directly sell dream lol dead ha point making point thinking critically thinking beyond common sense arent using brain little bit effort understanding thats common sense thats value judgement backed popular opinion social stupidity laziness thats works instead pushing harder comes children either cry climb never gray area dont drink drank beer hardcore ciders sweet brown ales liquor vodka chased cran water preferred drink wine anything dark dry sweet well escalated quickly https encryptedtbn2gstaticcom imagesqtbnand9gcsdagnswrqdgxzibqpn3dfs2llchp8to6fccevbhuilyuvfjzkvh2sgav_ deal tl dr fuuuuu people think know everything great annoyance us ia darth alpha would never claim healthy either best interest loyalty loyal vision loyal share vision codependency terms vision cannot accomplished without others involved stay course answer worth time entertain op hey msbossypants debate ayn rand vs marx maybe talk poor fi oh know lets try correlate testing entj sociopathic laughing hitler exception concept always principle tenet rule politics ideology religion eating shitting usual nothing hitler thought great things stalin thought justified guys thought uncorrupt viewed heretic dogmas morally bankrupt many meh plenty evil people good things plenty good people got blood hands achieving attaining higher goals bad situations good long term effects would ask op asking ambiguous questions would go whatever efficient effective vs perceived good every time good vs evil dichotomy good vs bad good vs evil one objective positive vs negative dichotomy subjective interpretation characteristics nameuser evil may better solution think sure idiots also think people went way fuck lives expose internet yes warrant validate reason really reeeeeeaaallly hate rigidly pc thumb sucking nanny bitches remind five year olds trying hard gain parents approval taddling people think people need get skin even people wrong racist thats waste time energy resources people end focus petty overboard http wwwpenciltribecom cms wpcontent uploads 2013 04 brian_snowflake300x225jpg http wwwpenciltribecom cms wpcontent uploads 2013 04 brian_snowflake300x225jpg im trying condescending tell things mentioned people saying written met legit arguments dont need brevity posts dont take much refute arent acknowledging people saying doesnt mean saying nothing']\n"
          ]
        }
      ]
    },
    {
      "cell_type": "code",
      "metadata": {
        "id": "uxrKV37d9ceL",
        "colab": {
          "base_uri": "https://localhost:8080/"
        },
        "outputId": "fe81b71f-625d-4741-e1f1-ddfc2d3ba0a9"
      },
      "source": [
        "\n",
        "\n",
        "sum_list=[]\n",
        "for j in post_list:\n",
        "    sum_list.append(len(j.split()))\n",
        "avg_word_length = sum(sum_list) / len(post_list)\n",
        "print(avg_word_length)"
      ],
      "execution_count": null,
      "outputs": [
        {
          "output_type": "stream",
          "name": "stdout",
          "text": [
            "656.5278386167147\n"
          ]
        }
      ]
    },
    {
      "cell_type": "code",
      "metadata": {
        "id": "qdWeDzE49efk"
      },
      "source": [
        "doc_size=10000"
      ],
      "execution_count": null,
      "outputs": []
    },
    {
      "cell_type": "code",
      "metadata": {
        "id": "vFP9VCBk9gaI",
        "colab": {
          "base_uri": "https://localhost:8080/"
        },
        "outputId": "31d325ab-8fa3-4993-f0b6-a0781e18fa57"
      },
      "source": [
        "from tensorflow.keras.preprocessing.text import one_hot\n",
        "from tensorflow.keras.preprocessing.sequence import pad_sequences\n",
        "start=time.time()\n",
        "onehot_repre = [one_hot(words,doc_size) for words in post_list]\n",
        "end=time.time()\n",
        "elapsed=end-start\n",
        "print(elapsed)"
      ],
      "execution_count": null,
      "outputs": [
        {
          "output_type": "stream",
          "name": "stdout",
          "text": [
            "2.7288670539855957\n"
          ]
        }
      ]
    },
    {
      "cell_type": "code",
      "metadata": {
        "id": "tJ71tUg99iHJ",
        "colab": {
          "base_uri": "https://localhost:8080/"
        },
        "outputId": "7d845d61-b05b-4ebe-e4b8-8738912bcb69"
      },
      "source": [
        "set_length=660\n",
        "start=time.time()\n",
        "embedded_docs = pad_sequences(onehot_repre,padding='pre',maxlen=set_length)\n",
        "end=time.time()\n",
        "elapsed=end-start\n",
        "print(elapsed)"
      ],
      "execution_count": null,
      "outputs": [
        {
          "output_type": "stream",
          "name": "stdout",
          "text": [
            "0.7729122638702393\n"
          ]
        }
      ]
    },
    {
      "cell_type": "code",
      "metadata": {
        "id": "RX_uBKgF9j-1",
        "colab": {
          "base_uri": "https://localhost:8080/"
        },
        "outputId": "c72b0f69-8bd3-41dc-b80e-7c2dcd5985f6"
      },
      "source": [
        "embedded_docs[0]"
      ],
      "execution_count": null,
      "outputs": [
        {
          "output_type": "execute_result",
          "data": {
            "text/plain": [
              "array([   0,    0,    0,    0,    0,    0,    0,    0,    0,    0,    0,\n",
              "          0,    0,    0,    0,    0,    0,    0,    0,    0,    0,    0,\n",
              "          0,    0,    0,    0,    0,    0,    0,    0,    0,    0,    0,\n",
              "          0,    0,    0,    0,    0,    0,    0,    0,    0,    0,    0,\n",
              "          0,    0,    0,    0,    0,    0,    0,    0,    0,    0,    0,\n",
              "          0,    0,    0,    0,    0,    0,    0,    0,    0,    0,    0,\n",
              "          0,    0,    0,    0,    0,    0,    0,    0,    0,    0,    0,\n",
              "          0,    0,    0,    0,    0,    0,    0,    0,    0,    0,    0,\n",
              "          0,    0,    0,    0,    0,    0,    0,    0,    0,    0,    0,\n",
              "          0,    0,    0,    0,    0,    0,    0,    0,    0,    0,    0,\n",
              "          0,    0,    0,    0,    0,    0,    0,    0,    0,    0,    0,\n",
              "          0,    0,    0,    0,    0,    0,    0,    0,    0,    0,    0,\n",
              "          0,    0,    0,    0,    0,    0,    0,    0,    0,    0,    0,\n",
              "          0,    0,    0,    0,    0,    0,    0,    0,    0,    0,    0,\n",
              "          0,    0,    0,    0,    0,    0,    0,    0,    0,    0,    0,\n",
              "          0,    0,    0,    0,    0,    0,    0,    0,    0,    0,    0,\n",
              "          0,    0,    0,    0,    0,    0,    0,    0,    0,    0,    0,\n",
              "          0,    0,    0,    0,    0,    0,    0,    0,    0,    0,    0,\n",
              "          0,    0,    0,    0,    0,    0,    0,    0,    0,    0,    0,\n",
              "          0,    0,    0,    0,    0,    0,    0,    0,    0,    0,    0,\n",
              "          0,    0,    0,    0,    0,    0,    0,    0,    0,    0,    0,\n",
              "          0,    0,    0,    0,    0,    0,    0,    0,    0,    0,    0,\n",
              "          0,    0, 8661, 2289, 8874, 8661, 4464,  383, 8023, 5782, 5390,\n",
              "       4306, 8903, 3481, 2289, 8941,  596, 5523, 3047,  265, 3481, 2289,\n",
              "       9006, 1438, 6393, 1594,  719, 8661, 2289, 5745, 8661, 2289, 6738,\n",
              "          4, 2763, 3510, 3935, 1594, 6649, 5396, 8853, 7916, 1464, 6975,\n",
              "       5106, 7749, 8475, 9796, 1162, 7824, 1138, 8661, 6934, 6107, 9731,\n",
              "       4166, 3273, 9186, 2042, 2840, 9537, 4041, 3253, 9496, 4024, 3399,\n",
              "       1875, 7556, 6948, 4189, 4189, 5963, 1409, 1438, 8661, 7043, 2702,\n",
              "       2812, 9513, 8661, 4462, 3239, 7935, 8023,  823, 6612, 3621, 7166,\n",
              "       8661, 3826, 3239, 7935, 2206, 2681,  250, 5894, 8456, 9703, 4356,\n",
              "       8151, 5845, 2900, 6876, 1733, 4594, 2740, 6459, 1733, 6357, 1060,\n",
              "       9916, 6074, 7882, 3586, 1875, 6294, 4130, 3736, 8029, 3763, 6151,\n",
              "       1950, 7376,  380, 4751,   81, 1496, 3230, 2861, 2424, 6010, 2102,\n",
              "       1496, 6076, 3604, 6587,  723, 1212, 7882, 8860, 1803, 6429, 5894,\n",
              "       1139, 3907, 9429, 1139, 3907, 7012, 8357, 9776, 6473, 8681, 2102,\n",
              "       4785, 9002, 5390, 2315, 6429, 9201, 9634, 6088, 2315, 6429, 9201,\n",
              "       7286, 3481, 2289, 9503, 8931, 7111, 2848, 8292, 1248, 2666, 2835,\n",
              "       2408, 4480, 1139, 8853, 2484, 3253, 6331, 4236, 8439, 1652, 3832,\n",
              "        707, 3583, 4645, 3253, 3600, 4107, 7033, 3253, 2740, 9406, 4247,\n",
              "       2022, 5945, 1193, 8382, 9648, 5121, 5890, 2771, 2824, 4463, 2411,\n",
              "       4635, 4498, 1435,  875, 8658, 9156, 1017, 5802, 6151, 8661, 2289,\n",
              "       5225, 7669, 9001, 6785, 8325, 3337, 8661, 2289, 3849, 7561, 5557,\n",
              "        457, 2860, 9534, 2634,  777, 3917, 8458, 2634, 6403, 4061, 7094,\n",
              "       5940, 1224, 9623, 8661, 2289, 7193, 8661, 2289, 2092, 8661, 2289,\n",
              "        852, 7561, 6773, 5691, 3846, 5846, 8132, 4236, 7561, 7516,  525,\n",
              "       2287, 9377, 7561, 7542, 4088, 2227, 5333, 7403,  885, 9427, 7561,\n",
              "       5466, 8881, 9054, 8661, 2289, 1016, 6847, 6844, 3555, 9817,  723,\n",
              "       6908, 7279, 3564, 5319, 4953, 7616, 5651, 6844, 9267,  227, 7131,\n",
              "       7681, 5609, 3715, 2484,  227, 4826, 7843, 6982, 5686, 3583, 7916,\n",
              "        333, 2666, 7702, 6745, 4800, 8661, 2289, 1470, 2514, 8661, 9770,\n",
              "       3028,  233, 4696, 6534, 8661, 1577, 5510, 3818, 5863, 9645, 2858,\n",
              "       8661, 2778,  241, 9659, 3961, 3961, 5081, 9911,  952, 8355, 4061,\n",
              "       8561, 3673, 3621, 2368, 2376, 8034, 4399, 2131, 6885, 9375, 8240,\n",
              "       3673, 4385, 8561, 2847, 7561, 3371, 7511, 5847, 3386, 9710, 6855,\n",
              "       8351, 1748, 8661, 2289, 7576, 7561,  919, 2276, 5414, 5506, 6271,\n",
              "       1725, 2913, 8093, 9534, 5297, 4833, 7531, 7664, 9820, 8661, 2289,\n",
              "         42, 3152, 6313, 2504, 4088, 6335, 9652, 1724, 4726, 3554, 5846,\n",
              "       1751, 7375, 2667, 6785, 8762, 6499, 8561, 8913,  917, 3438, 1183,\n",
              "       4306,  939, 8661, 2289, 4705, 2706, 4351, 5635,  811, 5991,  719],\n",
              "      dtype=int32)"
            ]
          },
          "metadata": {},
          "execution_count": 11
        }
      ]
    },
    {
      "cell_type": "code",
      "metadata": {
        "id": "AJ85NF899lrx"
      },
      "source": [
        "y=df[\"type\"]"
      ],
      "execution_count": null,
      "outputs": []
    },
    {
      "cell_type": "code",
      "metadata": {
        "id": "YXi6lJUR9obz",
        "colab": {
          "base_uri": "https://localhost:8080/"
        },
        "outputId": "f4da9360-23c1-4ef7-83b7-b0cd9fb71a2f"
      },
      "source": [
        "x_final = np.array(embedded_docs)\n",
        "y_final = np.array(y)\n",
        "\n",
        "print(x_final.shape)\n",
        "print(y_final.shape)"
      ],
      "execution_count": null,
      "outputs": [
        {
          "output_type": "stream",
          "name": "stdout",
          "text": [
            "(8675, 660)\n",
            "(8675,)\n"
          ]
        }
      ]
    },
    {
      "cell_type": "code",
      "metadata": {
        "id": "AUoCHIu39rhO"
      },
      "source": [
        "import sklearn\n",
        "from sklearn.model_selection import train_test_split\n",
        "\n",
        "x_train, x_test, y_train, y_test = train_test_split(x_final, y_final, test_size=0.3, random_state=42)"
      ],
      "execution_count": null,
      "outputs": []
    },
    {
      "cell_type": "code",
      "metadata": {
        "id": "I1w1madW9tN7"
      },
      "source": [
        "from sklearn import svm\n",
        "from sklearn import metrics\n",
        "start=time.time()\n",
        "clf = svm.SVC(kernel='linear') \n",
        "clf.fit(x_train, y_train)\n",
        "y_pred = clf.predict(x_test)\n",
        "\n",
        "print(\"Accuracy score:\",metrics.accuracy_score(y_test, y_pred))\n",
        "end=time.time()\n",
        "print(end-start)"
      ],
      "execution_count": null,
      "outputs": []
    },
    {
      "cell_type": "code",
      "metadata": {
        "id": "ar55gN2F9vRu"
      },
      "source": [
        ""
      ],
      "execution_count": null,
      "outputs": []
    }
  ]
}