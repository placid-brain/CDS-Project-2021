{
 "cells": [
  {
   "cell_type": "markdown",
   "metadata": {
    "id": "I4U1mUelTsOg"
   },
   "source": [
    "## SVM"
   ]
  },
  {
   "cell_type": "code",
   "execution_count": 1,
   "metadata": {
    "colab": {
     "base_uri": "https://localhost:8080/",
     "height": 421
    },
    "id": "flqeqowmPlN4",
    "outputId": "08c6d57b-9a84-48db-a511-00401b090c58"
   },
   "outputs": [
    {
     "data": {
      "text/html": [
       "<div>\n",
       "<style scoped>\n",
       "    .dataframe tbody tr th:only-of-type {\n",
       "        vertical-align: middle;\n",
       "    }\n",
       "\n",
       "    .dataframe tbody tr th {\n",
       "        vertical-align: top;\n",
       "    }\n",
       "\n",
       "    .dataframe thead th {\n",
       "        text-align: right;\n",
       "    }\n",
       "</style>\n",
       "<table border=\"1\" class=\"dataframe\">\n",
       "  <thead>\n",
       "    <tr style=\"text-align: right;\">\n",
       "      <th></th>\n",
       "      <th>type</th>\n",
       "      <th>posts</th>\n",
       "    </tr>\n",
       "  </thead>\n",
       "  <tbody>\n",
       "    <tr>\n",
       "      <th>0</th>\n",
       "      <td>INFJ</td>\n",
       "      <td>'http://www.youtube.com/watch?v=qsXHcwe3krw|||...</td>\n",
       "    </tr>\n",
       "    <tr>\n",
       "      <th>1</th>\n",
       "      <td>ENTP</td>\n",
       "      <td>'I'm finding the lack of me in these posts ver...</td>\n",
       "    </tr>\n",
       "    <tr>\n",
       "      <th>2</th>\n",
       "      <td>INTP</td>\n",
       "      <td>'Good one  _____   https://www.youtube.com/wat...</td>\n",
       "    </tr>\n",
       "    <tr>\n",
       "      <th>3</th>\n",
       "      <td>INTJ</td>\n",
       "      <td>'Dear INTP,   I enjoyed our conversation the o...</td>\n",
       "    </tr>\n",
       "    <tr>\n",
       "      <th>4</th>\n",
       "      <td>ENTJ</td>\n",
       "      <td>'You're fired.|||That's another silly misconce...</td>\n",
       "    </tr>\n",
       "    <tr>\n",
       "      <th>...</th>\n",
       "      <td>...</td>\n",
       "      <td>...</td>\n",
       "    </tr>\n",
       "    <tr>\n",
       "      <th>8670</th>\n",
       "      <td>ISFP</td>\n",
       "      <td>'https://www.youtube.com/watch?v=t8edHB_h908||...</td>\n",
       "    </tr>\n",
       "    <tr>\n",
       "      <th>8671</th>\n",
       "      <td>ENFP</td>\n",
       "      <td>'So...if this thread already exists someplace ...</td>\n",
       "    </tr>\n",
       "    <tr>\n",
       "      <th>8672</th>\n",
       "      <td>INTP</td>\n",
       "      <td>'So many questions when i do these things.  I ...</td>\n",
       "    </tr>\n",
       "    <tr>\n",
       "      <th>8673</th>\n",
       "      <td>INFP</td>\n",
       "      <td>'I am very conflicted right now when it comes ...</td>\n",
       "    </tr>\n",
       "    <tr>\n",
       "      <th>8674</th>\n",
       "      <td>INFP</td>\n",
       "      <td>'It has been too long since I have been on per...</td>\n",
       "    </tr>\n",
       "  </tbody>\n",
       "</table>\n",
       "<p>8675 rows × 2 columns</p>\n",
       "</div>"
      ],
      "text/plain": [
       "      type                                              posts\n",
       "0     INFJ  'http://www.youtube.com/watch?v=qsXHcwe3krw|||...\n",
       "1     ENTP  'I'm finding the lack of me in these posts ver...\n",
       "2     INTP  'Good one  _____   https://www.youtube.com/wat...\n",
       "3     INTJ  'Dear INTP,   I enjoyed our conversation the o...\n",
       "4     ENTJ  'You're fired.|||That's another silly misconce...\n",
       "...    ...                                                ...\n",
       "8670  ISFP  'https://www.youtube.com/watch?v=t8edHB_h908||...\n",
       "8671  ENFP  'So...if this thread already exists someplace ...\n",
       "8672  INTP  'So many questions when i do these things.  I ...\n",
       "8673  INFP  'I am very conflicted right now when it comes ...\n",
       "8674  INFP  'It has been too long since I have been on per...\n",
       "\n",
       "[8675 rows x 2 columns]"
      ]
     },
     "execution_count": 1,
     "metadata": {},
     "output_type": "execute_result"
    }
   ],
   "source": [
    "import pandas as pd\n",
    "\n",
    "df = pd.read_csv('mbti.csv', index_col=None) \n",
    "df"
   ]
  },
  {
   "cell_type": "code",
   "execution_count": 2,
   "metadata": {
    "colab": {
     "base_uri": "https://localhost:8080/",
     "height": 281
    },
    "id": "b6nsfxzq8s2A",
    "outputId": "b202d61a-b5be-4971-e5b6-3631bbe8320e"
   },
   "outputs": [
    {
     "data": {
      "image/png": "[encoded data removed]",
      "text/plain": [
       "<Figure size 720x288 with 1 Axes>"
      ]
     },
     "metadata": {
      "needs_background": "light"
     },
     "output_type": "display_data"
    }
   ],
   "source": [
    "# data visualization\n",
    "import matplotlib.pyplot as plt\n",
    "%matplotlib inline\n",
    "plt.figure(figsize=(10,4))\n",
    "df[\"type\"].value_counts().plot(kind='bar');"
   ]
  },
  {
   "cell_type": "code",
   "execution_count": 3,
   "metadata": {
    "colab": {
     "base_uri": "https://localhost:8080/"
    },
    "id": "CBfKqZJP9Wig",
    "outputId": "db785f16-eb7f-4067-f4e9-e183b6980753"
   },
   "outputs": [
    {
     "name": "stderr",
     "output_type": "stream",
     "text": [
      "[nltk_data] Downloading package stopwords to /home/jovyan/nltk_data...\n",
      "[nltk_data]   Package stopwords is already up-to-date!\n"
     ]
    }
   ],
   "source": [
    "import nltk\n",
    "from nltk.corpus import stopwords\n",
    "import re\n",
    "from bs4 import BeautifulSoup\n",
    "\n",
    "nltk.download('stopwords')\n",
    "\n",
    "\n",
    "REPLACE_BY_SPACE_RE = re.compile('[/(){}\\[\\]\\|@,;]')\n",
    "BAD_SYMBOLS_RE = re.compile('(@\\[A-Za-z0-9]+)|([^0-9A-Za-z \\t])|(\\w+:\\/\\/\\S+)|^rt|')\n",
    "URL_RE = re.compile('(\\w+:\\/\\/\\S+)|^rt|http.+?')\n",
    "STOPWORDS = set(stopwords.words('english'))\n",
    "\n",
    "def clean_text(text):\n",
    "    text = text.lower() \n",
    "    text = text.replace(\"|||\",\" \")\n",
    "    # text = REPLACE_BY_SPACE_RE.sub(' ', text) \n",
    "    # text = BAD_SYMBOLS_RE.sub('', text) \n",
    "    # text = URL_RE.sub('urladd',text)\n",
    "    text = re.sub(r'\\d+', '', text)\n",
    "    text = re.sub(r\"(@\\[A-Za-z0-9]+)|([^0-9A-Za-z \\t])|(\\w+:\\/\\/\\S+)|^rt|http.+?\", \" \", text)\n",
    "    text = ' '.join(word for word in text.split() if word not in STOPWORDS) \n",
    "    return text"
   ]
  },
  {
   "cell_type": "code",
   "execution_count": 4,
   "metadata": {
    "colab": {
     "base_uri": "https://localhost:8080/",
     "height": 421
    },
    "id": "dIhp9iUnBMCy",
    "outputId": "3421ba3e-9bf7-4802-e088-19d60cf84bc5"
   },
   "outputs": [
    {
     "data": {
      "text/html": [
       "<div>\n",
       "<style scoped>\n",
       "    .dataframe tbody tr th:only-of-type {\n",
       "        vertical-align: middle;\n",
       "    }\n",
       "\n",
       "    .dataframe tbody tr th {\n",
       "        vertical-align: top;\n",
       "    }\n",
       "\n",
       "    .dataframe thead th {\n",
       "        text-align: right;\n",
       "    }\n",
       "</style>\n",
       "<table border=\"1\" class=\"dataframe\">\n",
       "  <thead>\n",
       "    <tr style=\"text-align: right;\">\n",
       "      <th></th>\n",
       "      <th>type</th>\n",
       "      <th>posts</th>\n",
       "    </tr>\n",
       "  </thead>\n",
       "  <tbody>\n",
       "    <tr>\n",
       "      <th>0</th>\n",
       "      <td>INFJ</td>\n",
       "      <td>enfp intj moments sportscenter top ten plays p...</td>\n",
       "    </tr>\n",
       "    <tr>\n",
       "      <th>1</th>\n",
       "      <td>ENTP</td>\n",
       "      <td>finding lack posts alarming sex boring positio...</td>\n",
       "    </tr>\n",
       "    <tr>\n",
       "      <th>2</th>\n",
       "      <td>INTP</td>\n",
       "      <td>good one course say know blessing curse absolu...</td>\n",
       "    </tr>\n",
       "    <tr>\n",
       "      <th>3</th>\n",
       "      <td>INTJ</td>\n",
       "      <td>dear intp enjoyed conversation day esoteric ga...</td>\n",
       "    </tr>\n",
       "    <tr>\n",
       "      <th>4</th>\n",
       "      <td>ENTJ</td>\n",
       "      <td>fired another silly misconception approaching ...</td>\n",
       "    </tr>\n",
       "    <tr>\n",
       "      <th>...</th>\n",
       "      <td>...</td>\n",
       "      <td>...</td>\n",
       "    </tr>\n",
       "    <tr>\n",
       "      <th>8670</th>\n",
       "      <td>ISFP</td>\n",
       "      <td>ixfp always think cats fi doms reason especial...</td>\n",
       "    </tr>\n",
       "    <tr>\n",
       "      <th>8671</th>\n",
       "      <td>ENFP</td>\n",
       "      <td>thread already exists someplace else heck dele...</td>\n",
       "    </tr>\n",
       "    <tr>\n",
       "      <th>8672</th>\n",
       "      <td>INTP</td>\n",
       "      <td>many questions things would take purple pill p...</td>\n",
       "    </tr>\n",
       "    <tr>\n",
       "      <th>8673</th>\n",
       "      <td>INFP</td>\n",
       "      <td>conflicted right comes wanting children honest...</td>\n",
       "    </tr>\n",
       "    <tr>\n",
       "      <th>8674</th>\n",
       "      <td>INFP</td>\n",
       "      <td>long since personalitycafe although seem chang...</td>\n",
       "    </tr>\n",
       "  </tbody>\n",
       "</table>\n",
       "<p>8675 rows × 2 columns</p>\n",
       "</div>"
      ],
      "text/plain": [
       "      type                                              posts\n",
       "0     INFJ  enfp intj moments sportscenter top ten plays p...\n",
       "1     ENTP  finding lack posts alarming sex boring positio...\n",
       "2     INTP  good one course say know blessing curse absolu...\n",
       "3     INTJ  dear intp enjoyed conversation day esoteric ga...\n",
       "4     ENTJ  fired another silly misconception approaching ...\n",
       "...    ...                                                ...\n",
       "8670  ISFP  ixfp always think cats fi doms reason especial...\n",
       "8671  ENFP  thread already exists someplace else heck dele...\n",
       "8672  INTP  many questions things would take purple pill p...\n",
       "8673  INFP  conflicted right comes wanting children honest...\n",
       "8674  INFP  long since personalitycafe although seem chang...\n",
       "\n",
       "[8675 rows x 2 columns]"
      ]
     },
     "execution_count": 4,
     "metadata": {},
     "output_type": "execute_result"
    }
   ],
   "source": [
    "df['posts'] = df['posts'].apply(clean_text)\n",
    "df"
   ]
  },
  {
   "cell_type": "code",
   "execution_count": 5,
   "metadata": {},
   "outputs": [],
   "source": [
    "df.to_csv(\"mbti_basic_cleaned_dataset.csv\",index=False)"
   ]
  },
  {
   "cell_type": "code",
   "execution_count": 6,
   "metadata": {
    "colab": {
     "base_uri": "https://localhost:8080/",
     "height": 427
    },
    "id": "R5l7DR1hBR3B",
    "outputId": "e07a8fa8-91b7-463e-cfef-574e3379aa3e"
   },
   "outputs": [
    {
     "data": {
      "image/png": "[encoded data removed]",
      "text/plain": [
       "<Figure size 432x288 with 1 Axes>"
      ]
     },
     "metadata": {
      "needs_background": "light"
     },
     "output_type": "display_data"
    },
    {
     "data": {
      "text/plain": [
       "count    8675.000000\n",
       "mean     4070.981210\n",
       "std       979.822388\n",
       "min         0.000000\n",
       "25%      3517.000000\n",
       "50%      4239.000000\n",
       "75%      4784.500000\n",
       "max      6559.000000\n",
       "dtype: float64"
      ]
     },
     "execution_count": 6,
     "metadata": {},
     "output_type": "execute_result"
    }
   ],
   "source": [
    "posts_len = [len(x) for x in df.posts]\n",
    "pd.Series(posts_len).hist()\n",
    "plt.title(\"Sentence Length Distribution (After cleaning)\")\n",
    "plt.show()\n",
    "pd.Series(posts_len).describe()"
   ]
  },
  {
   "cell_type": "code",
   "execution_count": 11,
   "metadata": {},
   "outputs": [
    {
     "name": "stdout",
     "output_type": "stream",
     "text": [
      "Collecting gensim\n",
      "  Downloading gensim-4.1.2-cp36-cp36m-manylinux_2_12_x86_64.manylinux2010_x86_64.whl (24.1 MB)\n",
      "\u001b[K     |████████████████████████████████| 24.1 MB 9.6 MB/s eta 0:00:01              | 706 kB 9.6 MB/s eta 0:00:03MB/s eta 0:00:01███████████████████████▌      | 19.2 MB 9.6 MB/s eta 0:00:01�██▋| 23.7 MB 9.6 MB/s eta 0:00:01\n",
      "\u001b[?25hRequirement already satisfied: scipy>=0.18.1 in /opt/conda/lib/python3.6/site-packages (from gensim) (1.4.1)\n",
      "Requirement already satisfied: dataclasses; python_version < \"3.7\" in /opt/conda/lib/python3.6/site-packages (from gensim) (0.7)\n",
      "Collecting smart-open>=1.8.1\n",
      "  Downloading smart_open-5.2.1-py3-none-any.whl (58 kB)\n",
      "\u001b[K     |████████████████████████████████| 58 kB 6.8 MB/s  eta 0:00:01\n",
      "\u001b[?25hRequirement already satisfied: numpy>=1.17.0 in /opt/conda/lib/python3.6/site-packages (from gensim) (1.18.5)\n",
      "Installing collected packages: smart-open, gensim\n",
      "Successfully installed gensim-4.1.2 smart-open-5.2.1\n"
     ]
    }
   ],
   "source": [
    "!pip install gensim"
   ]
  },
  {
   "cell_type": "code",
   "execution_count": 12,
   "metadata": {
    "id": "1tgMddzXIM9h"
   },
   "outputs": [],
   "source": [
    "from gensim.models import doc2vec\n",
    "from gensim.models.doc2vec import TaggedDocument\n",
    "def label_sentences(corpus, label_type):\n",
    "    labeled = []\n",
    "    for i, v in enumerate(corpus):\n",
    "        label = label_type + '_' + str(i)\n",
    "        labeled.append(doc2vec.TaggedDocument(v.split(), [label]))\n",
    "    return labeled"
   ]
  },
  {
   "cell_type": "code",
   "execution_count": 13,
   "metadata": {
    "id": "n17PdaXiIRb9"
   },
   "outputs": [],
   "source": [
    "from sklearn.model_selection import train_test_split\n",
    "X_train, X_test, y_train, y_test = train_test_split(df.posts, df[\"type\"], random_state=10, \n",
    "                                                    test_size=0.3)\n",
    "X_train = label_sentences(X_train, 'Train')\n",
    "X_test = label_sentences(X_test, 'Test')\n",
    "all_data = X_train + X_test"
   ]
  },
  {
   "cell_type": "code",
   "execution_count": 14,
   "metadata": {
    "colab": {
     "base_uri": "https://localhost:8080/"
    },
    "id": "z7hzlJ0gIxy2",
    "outputId": "1804be55-e233-46a2-e33e-7eff3b5565a6"
   },
   "outputs": [
    {
     "name": "stderr",
     "output_type": "stream",
     "text": [
      "100%|██████████| 8675/8675 [00:00<00:00, 2490798.69it/s]\n"
     ]
    }
   ],
   "source": [
    "from gensim.models import doc2vec\n",
    "from tqdm import tqdm\n",
    "vector_size = 300\n",
    "model_dbow = doc2vec.Doc2Vec(dm=0, vector_size=vector_size, negative=5, min_count=1, alpha=0.065, \n",
    "                     min_alpha=0.065)\n",
    "model_dbow.build_vocab([x for x in tqdm(all_data)])"
   ]
  },
  {
   "cell_type": "code",
   "execution_count": 15,
   "metadata": {
    "colab": {
     "base_uri": "https://localhost:8080/"
    },
    "id": "ksTIT_meJYzT",
    "outputId": "e704b06b-f55b-43ec-e1ea-3fd686ba62e6"
   },
   "outputs": [
    {
     "name": "stderr",
     "output_type": "stream",
     "text": [
      "100%|██████████| 8675/8675 [00:00<00:00, 3023314.27it/s]\n",
      "100%|██████████| 8675/8675 [00:00<00:00, 2828481.59it/s]\n",
      "100%|██████████| 8675/8675 [00:00<00:00, 3448870.82it/s]\n",
      "100%|██████████| 8675/8675 [00:00<00:00, 1785620.42it/s]\n",
      "100%|██████████| 8675/8675 [00:00<00:00, 3481208.11it/s]\n",
      "100%|██████████| 8675/8675 [00:00<00:00, 2118150.38it/s]\n",
      "100%|██████████| 8675/8675 [00:00<00:00, 2096064.70it/s]\n",
      "100%|██████████| 8675/8675 [00:00<00:00, 1942222.01it/s]\n",
      "100%|██████████| 8675/8675 [00:00<00:00, 3488216.59it/s]\n",
      "100%|██████████| 8675/8675 [00:00<00:00, 1512851.32it/s]\n",
      "100%|██████████| 8675/8675 [00:00<00:00, 3389435.23it/s]\n",
      "100%|██████████| 8675/8675 [00:00<00:00, 1711135.59it/s]\n",
      "100%|██████████| 8675/8675 [00:00<00:00, 3318339.01it/s]\n",
      "100%|██████████| 8675/8675 [00:00<00:00, 3212288.09it/s]\n",
      "100%|██████████| 8675/8675 [00:00<00:00, 1653439.39it/s]\n",
      "100%|██████████| 8675/8675 [00:00<00:00, 3433898.38it/s]\n",
      "100%|██████████| 8675/8675 [00:00<00:00, 2122722.55it/s]\n",
      "100%|██████████| 8675/8675 [00:00<00:00, 3396395.71it/s]\n",
      "100%|██████████| 8675/8675 [00:00<00:00, 2040237.03it/s]\n",
      "100%|██████████| 8675/8675 [00:00<00:00, 3458377.26it/s]\n",
      "100%|██████████| 8675/8675 [00:00<00:00, 3544626.13it/s]\n",
      "100%|██████████| 8675/8675 [00:00<00:00, 2549795.88it/s]\n",
      "100%|██████████| 8675/8675 [00:00<00:00, 2051510.33it/s]\n",
      "100%|██████████| 8675/8675 [00:00<00:00, 3413922.61it/s]\n",
      "100%|██████████| 8675/8675 [00:00<00:00, 3478213.10it/s]\n",
      "100%|██████████| 8675/8675 [00:00<00:00, 2716964.40it/s]\n",
      "100%|██████████| 8675/8675 [00:00<00:00, 3438441.43it/s]\n",
      "100%|██████████| 8675/8675 [00:00<00:00, 3365607.92it/s]\n",
      "100%|██████████| 8675/8675 [00:00<00:00, 1912514.44it/s]\n",
      "100%|██████████| 8675/8675 [00:00<00:00, 3472238.50it/s]\n"
     ]
    }
   ],
   "source": [
    "from sklearn import utils\n",
    "for epoch in range(30):\n",
    "    model_dbow.train(utils.shuffle([x for x in tqdm(all_data)]), \n",
    "                     total_examples=len(all_data), \n",
    "                     epochs=1)\n",
    "    model_dbow.alpha -= 0.002\n",
    "    model_dbow.min_alpha = model_dbow.alpha"
   ]
  },
  {
   "cell_type": "code",
   "execution_count": 16,
   "metadata": {
    "id": "H7661GHegSoT"
   },
   "outputs": [],
   "source": [
    "def get_vectors(model, corpus_size, vectors_size, vectors_type):\n",
    "    vectors = np.zeros((corpus_size, vectors_size))\n",
    "    for i in range(0, corpus_size):\n",
    "        prefix = vectors_type + '_' + str(i)\n",
    "        vectors[i] = model.docvecs[prefix]\n",
    "    return vectors"
   ]
  },
  {
   "cell_type": "code",
   "execution_count": 17,
   "metadata": {
    "id": "_9CAOWIUJiQq"
   },
   "outputs": [
    {
     "name": "stderr",
     "output_type": "stream",
     "text": [
      "/opt/conda/lib/python3.6/site-packages/ipykernel_launcher.py:5: DeprecationWarning: Call to deprecated `docvecs` (The `docvecs` property has been renamed `dv`.).\n",
      "  \"\"\"\n"
     ]
    }
   ],
   "source": [
    "import numpy as np\n",
    "train_vectors_dbow = get_vectors(model_dbow, len(X_train), vector_size, 'Train')\n",
    "test_vectors_dbow = get_vectors(model_dbow, len(X_test), vector_size, 'Test')"
   ]
  },
  {
   "cell_type": "code",
   "execution_count": 18,
   "metadata": {
    "colab": {
     "base_uri": "https://localhost:8080/"
    },
    "id": "czQdi-9ZJ5U7",
    "outputId": "f3b71894-243c-440c-a90c-103759a1de58"
   },
   "outputs": [
    {
     "name": "stdout",
     "output_type": "stream",
     "text": [
      "accuracy 0.5816365731847868\n",
      "              precision    recall  f1-score   support\n",
      "\n",
      "        ENFJ       0.28      0.23      0.26        47\n",
      "        ENFP       0.54      0.64      0.59       193\n",
      "        ENTJ       0.42      0.34      0.38        83\n",
      "        ENTP       0.50      0.58      0.54       190\n",
      "        ESFJ       1.00      0.07      0.12        15\n",
      "        ESFP       0.17      0.07      0.10        15\n",
      "        ESTJ       0.00      0.00      0.00        14\n",
      "        ESTP       0.64      0.27      0.38        26\n",
      "        INFJ       0.58      0.67      0.62       435\n",
      "        INFP       0.65      0.72      0.69       559\n",
      "        INTJ       0.58      0.58      0.58       337\n",
      "        INTP       0.60      0.65      0.62       379\n",
      "        ISFJ       0.71      0.32      0.44        47\n",
      "        ISFP       0.47      0.26      0.34        88\n",
      "        ISTJ       0.54      0.32      0.40        60\n",
      "        ISTP       0.65      0.34      0.45       115\n",
      "\n",
      "    accuracy                           0.58      2603\n",
      "   macro avg       0.52      0.38      0.41      2603\n",
      "weighted avg       0.58      0.58      0.57      2603\n",
      "\n"
     ]
    },
    {
     "name": "stderr",
     "output_type": "stream",
     "text": [
      "/opt/conda/lib/python3.6/site-packages/sklearn/metrics/_classification.py:1221: UndefinedMetricWarning: Precision and F-score are ill-defined and being set to 0.0 in labels with no predicted samples. Use `zero_division` parameter to control this behavior.\n",
      "  _warn_prf(average, modifier, msg_start, len(result))\n"
     ]
    }
   ],
   "source": [
    "from sklearn.svm import SVC\n",
    "from sklearn.metrics import accuracy_score, confusion_matrix, classification_report\n",
    "model = SVC(C=10, gamma='auto', kernel='rbf')\n",
    "model.fit(train_vectors_dbow, y_train)\n",
    "y_pred = model.predict(test_vectors_dbow)\n",
    "\n",
    "print('accuracy %s' % accuracy_score(y_pred, y_test))\n",
    "print(classification_report(y_test, y_pred))"
   ]
  }
 ],
 "metadata": {
  "colab": {
   "collapsed_sections": [],
   "name": "MBTI personality test.ipynb",
   "provenance": []
  },
  "kernelspec": {
   "display_name": "Python 3",
   "language": "python",
   "name": "python3"
  },
  "language_info": {
   "codemirror_mode": {
    "name": "ipython",
    "version": 3
   },
   "file_extension": ".py",
   "mimetype": "text/x-python",
   "name": "python",
   "nbconvert_exporter": "python",
   "pygments_lexer": "ipython3",
   "version": "3.6.10"
  }
 },
 "nbformat": 4,
 "nbformat_minor": 1
}
