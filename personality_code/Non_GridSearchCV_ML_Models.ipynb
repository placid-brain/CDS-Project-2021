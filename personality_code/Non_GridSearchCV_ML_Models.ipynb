{
 "cells": [
  {
   "cell_type": "markdown",
   "metadata": {
    "id": "heS8za4yChGV"
   },
   "source": [
    "# Normal implementation of Machine Learning Techniques\n",
    "\n",
    "This notebook consists of classifying MBTI types using \n",
    "\n",
    "\n",
    "1.   Multinominal Naive Bayes\n",
    "2.   Gaussian Naive Bayes\n",
    "3.   Complement Naive Bayes\n",
    "4.   Categorical Naive Bayes\n",
    "5.   K Means Clustring\n",
    "\n",
    "\n",
    "\n",
    "\n",
    "All training examples were used regardless of proportion of class sizes. \n",
    "\n"
   ]
  },
  {
   "cell_type": "code",
   "execution_count": 37,
   "metadata": {
    "id": "6sqKnfsS3Z6b"
   },
   "outputs": [],
   "source": [
    "import pandas as pd\n",
    "\n",
    "from sklearn.tree import DecisionTreeClassifier\n",
    "\n",
    "from sklearn.preprocessing import LabelEncoder\n",
    "\n",
    "import nltk\n",
    "from sklearn.naive_bayes import MultinomialNB\n",
    "from sklearn.experimental import enable_hist_gradient_boosting\n",
    "from sklearn.metrics import accuracy_score as acs\n",
    "import warnings\n",
    "\n",
    "from nltk.corpus import stopwords\n",
    "import re\n",
    "from sklearn.model_selection import train_test_split\n",
    "from sklearn.svm import SVC,LinearSVC\n",
    "\n",
    "from sklearn.model_selection import GridSearchCV\n",
    "from sklearn.ensemble import RandomForestClassifier\n",
    "from xgboost import XGBClassifier\n",
    "import matplotlib.pyplot as plt\n",
    "import seaborn as sns\n",
    "from sklearn.metrics import classification_report\n",
    "from sklearn.linear_model import LogisticRegression\n",
    "from sklearn.metrics import accuracy_score\n",
    "\n",
    "from sklearn.ensemble import HistGradientBoostingClassifier\n",
    "\n"
   ]
  },
  {
   "cell_type": "code",
   "execution_count": 38,
   "metadata": {
    "colab": {
     "base_uri": "https://localhost:8080/"
    },
    "id": "QZheoE8F3h_a",
    "outputId": "d0d913cd-b434-4254-ac13-9f8d2271b2b0"
   },
   "outputs": [
    {
     "name": "stdout",
     "output_type": "stream",
     "text": [
      "fatal: destination path 'CDS-Project-2021' already exists and is not an empty directory.\n"
     ]
    }
   ],
   "source": [
    "!git clone https://github.com/placid-brain/CDS-Project-2021.git"
   ]
  },
  {
   "cell_type": "code",
   "execution_count": 39,
   "metadata": {
    "colab": {
     "base_uri": "https://localhost:8080/",
     "height": 206
    },
    "id": "LAEs9pVQ4YSM",
    "outputId": "8fb59d5d-3ebc-45b5-c728-72a66844f803"
   },
   "outputs": [
    {
     "data": {
      "text/html": [
       "<div>\n",
       "<style scoped>\n",
       "    .dataframe tbody tr th:only-of-type {\n",
       "        vertical-align: middle;\n",
       "    }\n",
       "\n",
       "    .dataframe tbody tr th {\n",
       "        vertical-align: top;\n",
       "    }\n",
       "\n",
       "    .dataframe thead th {\n",
       "        text-align: right;\n",
       "    }\n",
       "</style>\n",
       "<table border=\"1\" class=\"dataframe\">\n",
       "  <thead>\n",
       "    <tr style=\"text-align: right;\">\n",
       "      <th></th>\n",
       "      <th>type</th>\n",
       "      <th>posts</th>\n",
       "    </tr>\n",
       "  </thead>\n",
       "  <tbody>\n",
       "    <tr>\n",
       "      <th>0</th>\n",
       "      <td>INFJ</td>\n",
       "      <td>enfp intj moments sportscenter top ten plays p...</td>\n",
       "    </tr>\n",
       "    <tr>\n",
       "      <th>1</th>\n",
       "      <td>ENTP</td>\n",
       "      <td>finding lack posts alarming sex boring positio...</td>\n",
       "    </tr>\n",
       "    <tr>\n",
       "      <th>2</th>\n",
       "      <td>INTP</td>\n",
       "      <td>good one course say know blessing curse absolu...</td>\n",
       "    </tr>\n",
       "    <tr>\n",
       "      <th>3</th>\n",
       "      <td>INTJ</td>\n",
       "      <td>dear intp enjoyed conversation day esoteric ga...</td>\n",
       "    </tr>\n",
       "    <tr>\n",
       "      <th>4</th>\n",
       "      <td>ENTJ</td>\n",
       "      <td>fired another silly misconception approaching ...</td>\n",
       "    </tr>\n",
       "  </tbody>\n",
       "</table>\n",
       "</div>"
      ],
      "text/plain": [
       "   type                                              posts\n",
       "0  INFJ  enfp intj moments sportscenter top ten plays p...\n",
       "1  ENTP  finding lack posts alarming sex boring positio...\n",
       "2  INTP  good one course say know blessing curse absolu...\n",
       "3  INTJ  dear intp enjoyed conversation day esoteric ga...\n",
       "4  ENTJ  fired another silly misconception approaching ..."
      ]
     },
     "execution_count": 39,
     "metadata": {},
     "output_type": "execute_result"
    }
   ],
   "source": [
    "df = pd.read_csv(\"/content/CDS-Project-2021/personality_dataset/mbti_basic_cleaned_dataset.csv\")\n",
    "df.head()"
   ]
  },
  {
   "cell_type": "code",
   "execution_count": 40,
   "metadata": {
    "colab": {
     "base_uri": "https://localhost:8080/"
    },
    "id": "8RzbTJm44lHx",
    "outputId": "0bb333fc-5889-4e3b-84ab-fc435c9a3ccd"
   },
   "outputs": [
    {
     "data": {
      "text/plain": [
       "INFP    1832\n",
       "INFJ    1470\n",
       "INTP    1304\n",
       "INTJ    1091\n",
       "ENTP     685\n",
       "ENFP     675\n",
       "ISTP     337\n",
       "ISFP     271\n",
       "ENTJ     231\n",
       "ISTJ     205\n",
       "ENFJ     190\n",
       "ISFJ     166\n",
       "ESTP      89\n",
       "ESFP      48\n",
       "ESFJ      42\n",
       "ESTJ      39\n",
       "Name: type, dtype: int64"
      ]
     },
     "execution_count": 40,
     "metadata": {},
     "output_type": "execute_result"
    }
   ],
   "source": [
    "df[\"type\"].value_counts()"
   ]
  },
  {
   "cell_type": "code",
   "execution_count": 41,
   "metadata": {
    "id": "aiCTUj1q4u_k"
   },
   "outputs": [],
   "source": [
    "train_df, test_df = train_test_split(df,test_size=0.3,random_state=42,stratify=df.type )"
   ]
  },
  {
   "cell_type": "code",
   "execution_count": 42,
   "metadata": {
    "id": "eL5As2f1502L"
   },
   "outputs": [],
   "source": [
    "\n",
    "\n",
    "train_df_index_list=list(train_df.index)\n",
    "\n",
    "test_df_index_list=list(test_df.index)\n"
   ]
  },
  {
   "cell_type": "code",
   "execution_count": 43,
   "metadata": {
    "colab": {
     "base_uri": "https://localhost:8080/"
    },
    "id": "oMP5zNY9XySC",
    "outputId": "2f1b0deb-9593-47f7-be69-64028b7044ef"
   },
   "outputs": [
    {
     "name": "stdout",
     "output_type": "stream",
     "text": [
      "(6072, 500)\n",
      "(2603, 500)\n"
     ]
    }
   ],
   "source": [
    "from sklearn.feature_extraction.text import CountVectorizer\n",
    "\n",
    "\n",
    "\n",
    "vectorizer = CountVectorizer(max_features=500)\n",
    "  \n",
    "vectorizer.fit(train_df['posts'].astype('U'))\n",
    "#vectorizer.fit(test_df['posts'].astype('U'))\n",
    "\n",
    "#train_df.posts.values.astype('U')\n",
    "#test_df.posts.values.astype('U')\n",
    "\n",
    "train_df_vector = vectorizer.transform(train_df.posts.astype('U')).toarray()\n",
    "\n",
    "test_df_vector = vectorizer.transform(test_df.posts.astype('U')).toarray()\n",
    "\n",
    "print(train_df_vector.shape)\n",
    "print(test_df_vector.shape)"
   ]
  },
  {
   "cell_type": "code",
   "execution_count": 44,
   "metadata": {
    "colab": {
     "base_uri": "https://localhost:8080/"
    },
    "id": "14okGUanYWEH",
    "outputId": "4720f07c-113c-4b81-e358-33b4f685702b"
   },
   "outputs": [
    {
     "name": "stdout",
     "output_type": "stream",
     "text": [
      "(6072,)\n",
      "(2603,)\n"
     ]
    }
   ],
   "source": [
    "from sklearn.preprocessing import LabelEncoder\n",
    "\n",
    "le = LabelEncoder()\n",
    "\n",
    "\n",
    "train_df_target = le.fit_transform(train_df.type)\n",
    "test_df_target = le.fit_transform(test_df.type)\n",
    "\n",
    "print(train_df_target.shape)\n",
    "print(test_df_target.shape)"
   ]
  },
  {
   "cell_type": "code",
   "execution_count": 45,
   "metadata": {
    "id": "bokHlZQE3QTc"
   },
   "outputs": [],
   "source": [
    "# dictionary to store model accuracy\n",
    "accuracy_record={}"
   ]
  },
  {
   "cell_type": "code",
   "execution_count": 46,
   "metadata": {
    "colab": {
     "base_uri": "https://localhost:8080/",
     "height": 606
    },
    "id": "GLNoPaSJxttL",
    "outputId": "6b87617c-7ed0-417f-a0d8-e7228d1d6b9f"
   },
   "outputs": [
    {
     "data": {
      "image/png": "[encoded data removed]",
      "text/plain": [
       "<Figure size 1440x720 with 1 Axes>"
      ]
     },
     "metadata": {
      "needs_background": "light"
     },
     "output_type": "display_data"
    }
   ],
   "source": [
    "\n",
    "# Constructing training examples graph\n",
    "\n",
    "import matplotlib.pyplot as plt\n",
    "import seaborn as sns\n",
    "\n",
    "f, ax = plt.subplots(figsize=(20,10))\n",
    "\n",
    "\n",
    "\n",
    "train_label_df=pd.DataFrame(train_df['type'].value_counts())\n",
    "\n",
    "\n",
    "\n",
    "plt.bar(train_label_df.index, train_label_df['type'])\n",
    "plt.title(\"Training Sample Distribution\")\n",
    "plt.show()"
   ]
  },
  {
   "cell_type": "code",
   "execution_count": 47,
   "metadata": {
    "colab": {
     "base_uri": "https://localhost:8080/",
     "height": 606
    },
    "id": "WQrLXpG07uqf",
    "outputId": "cf8530b2-4ee2-49e6-850a-2c07efc039de"
   },
   "outputs": [
    {
     "data": {
      "image/png": "[encoded data removed]",
      "text/plain": [
       "<Figure size 1440x720 with 1 Axes>"
      ]
     },
     "metadata": {
      "needs_background": "light"
     },
     "output_type": "display_data"
    }
   ],
   "source": [
    "# Constructing testing examples graph\n",
    "\n",
    "\n",
    "\n",
    "f, ax = plt.subplots(figsize=(20,10))\n",
    "\n",
    "\n",
    "\n",
    "test_label_df=pd.DataFrame(test_df['type'].value_counts())\n",
    "\n",
    "\n",
    "\n",
    "plt.bar(test_label_df.index, test_label_df['type'])\n",
    "plt.title(\"Testing Sample Distribution\")\n",
    "plt.show()"
   ]
  },
  {
   "cell_type": "markdown",
   "metadata": {
    "id": "PVN7PfIhP8cr"
   },
   "source": [
    "## Gaussian Naive Bayes\n",
    "\n",
    "\n",
    "\n",
    "1.   Training Sample \n",
    "2.   Testing Sample\n",
    "3.   Recording accuracy of Gaussian Naive Bayes in accuracy record\n",
    "\n"
   ]
  },
  {
   "cell_type": "code",
   "execution_count": 48,
   "metadata": {
    "colab": {
     "base_uri": "https://localhost:8080/"
    },
    "id": "r79EqLFXP-gF",
    "outputId": "b0aae05d-4134-498d-f71c-7fbe59fca69b"
   },
   "outputs": [
    {
     "data": {
      "text/plain": [
       "GaussianNB()"
      ]
     },
     "execution_count": 48,
     "metadata": {},
     "output_type": "execute_result"
    }
   ],
   "source": [
    "# 1\n",
    "\n",
    "from sklearn.naive_bayes import GaussianNB\n",
    "\n",
    "\n",
    "gnb = GaussianNB()\n",
    "\n",
    "# training the sample\n",
    "gnb.fit(train_df_vector,train_df_target)"
   ]
  },
  {
   "cell_type": "code",
   "execution_count": 49,
   "metadata": {
    "id": "2uQMYi2XP-3o"
   },
   "outputs": [],
   "source": [
    "#2\n",
    "\n",
    "#testing the sample\n",
    "\n",
    "target_pred = gnb.predict(test_df_vector)\n"
   ]
  },
  {
   "cell_type": "code",
   "execution_count": 50,
   "metadata": {
    "colab": {
     "base_uri": "https://localhost:8080/"
    },
    "id": "Sm_Xo1MUP_Xm",
    "outputId": "ac9d8496-fb7c-4563-f48b-7d15fa022d1c"
   },
   "outputs": [
    {
     "name": "stdout",
     "output_type": "stream",
     "text": [
      "\n",
      "\n",
      "\n",
      "\n",
      "The accuracy is: 0.37879369957741066\n",
      "\n",
      "\n",
      "\n",
      "\n"
     ]
    }
   ],
   "source": [
    "# 3\n",
    "from sklearn.metrics import accuracy_score as acs\n",
    "\n",
    "acs = acs(test_df_target,target_pred)\n",
    "accuracy_record[\"Gaussian Naive Bayes\"] = acs\n",
    "print(\"\\n\")\n",
    "print(\"\\n\")\n",
    "print(\"The accuracy is: \"+str(acs))\n",
    "print(\"\\n\")\n",
    "print(\"\\n\")"
   ]
  },
  {
   "cell_type": "markdown",
   "metadata": {
    "id": "8JvLTYJ_sx0J"
   },
   "source": [
    "## Multinomial Naive Bayes\n",
    "\n",
    "\n",
    "\n",
    "1.   Training Sample \n",
    "2.   Testing Sample\n",
    "3.   Recording accuracy of Multinomial Naive Bayes in accuracy record\n",
    "\n"
   ]
  },
  {
   "cell_type": "code",
   "execution_count": 51,
   "metadata": {
    "colab": {
     "base_uri": "https://localhost:8080/"
    },
    "id": "dh_xW8CIfkC4",
    "outputId": "7194d9ac-596a-44c2-cb97-1354f9394815"
   },
   "outputs": [
    {
     "data": {
      "text/plain": [
       "MultinomialNB()"
      ]
     },
     "execution_count": 51,
     "metadata": {},
     "output_type": "execute_result"
    }
   ],
   "source": [
    "# 1\n",
    "\n",
    "from sklearn.naive_bayes import MultinomialNB\n",
    "\n",
    "mnb = MultinomialNB()\n",
    "\n",
    "# training the sample\n",
    "mnb.fit(train_df_vector,train_df_target)\n"
   ]
  },
  {
   "cell_type": "code",
   "execution_count": 52,
   "metadata": {
    "id": "1pUlGo8-O2zr"
   },
   "outputs": [],
   "source": [
    "#2\n",
    "\n",
    "#testing the sample\n",
    "\n",
    "target_pred = mnb.predict(test_df_vector)\n"
   ]
  },
  {
   "cell_type": "code",
   "execution_count": 53,
   "metadata": {
    "colab": {
     "base_uri": "https://localhost:8080/"
    },
    "id": "W-mQZB0QPAsT",
    "outputId": "20c9c318-c470-49ce-855a-e6f24834124f"
   },
   "outputs": [
    {
     "name": "stdout",
     "output_type": "stream",
     "text": [
      "\n",
      "\n",
      "\n",
      "\n",
      "The accuracy is: 0.5843257779485209\n",
      "\n",
      "\n",
      "\n",
      "\n"
     ]
    }
   ],
   "source": [
    "# 3\n",
    "from sklearn.metrics import accuracy_score as acs\n",
    "\n",
    "acs = acs(test_df_target,target_pred)\n",
    "accuracy_record[\"Multinomial Naive Bayes\"] = acs\n",
    "print(\"\\n\")\n",
    "print(\"\\n\")\n",
    "print(\"The accuracy is: \"+str(acs))\n",
    "print(\"\\n\")\n",
    "print(\"\\n\")"
   ]
  },
  {
   "cell_type": "markdown",
   "metadata": {
    "id": "PoC7MFwIQltx"
   },
   "source": [
    "## Complement Naive Bayes\n",
    "\n",
    "\n",
    "\n",
    "1.   Training Sample \n",
    "2.   Testing Sample\n",
    "3.   Recording accuracy of Complement Naive Bayes in accuracy record\n",
    "\n"
   ]
  },
  {
   "cell_type": "code",
   "execution_count": 54,
   "metadata": {
    "colab": {
     "base_uri": "https://localhost:8080/"
    },
    "id": "C48uK6AaQmD3",
    "outputId": "ac6b9ac1-09af-4e1a-a37d-c73bc4f961d7"
   },
   "outputs": [
    {
     "data": {
      "text/plain": [
       "ComplementNB()"
      ]
     },
     "execution_count": 54,
     "metadata": {},
     "output_type": "execute_result"
    }
   ],
   "source": [
    "# 1\n",
    "from sklearn.naive_bayes import ComplementNB\n",
    "\n",
    "cnb = ComplementNB()\n",
    "\n",
    "# training the sample\n",
    "cnb.fit(train_df_vector,train_df_target)"
   ]
  },
  {
   "cell_type": "code",
   "execution_count": 55,
   "metadata": {
    "id": "8cn3bqS5QmiU"
   },
   "outputs": [],
   "source": [
    "#2\n",
    "\n",
    "#testing the sample\n",
    "\n",
    "target_pred = cnb.predict(test_df_vector)\n"
   ]
  },
  {
   "cell_type": "code",
   "execution_count": 56,
   "metadata": {
    "colab": {
     "base_uri": "https://localhost:8080/"
    },
    "id": "CjxP3BFSQm1O",
    "outputId": "87768fa4-a37c-4ea6-f944-8a5c8295c292"
   },
   "outputs": [
    {
     "name": "stdout",
     "output_type": "stream",
     "text": [
      "\n",
      "\n",
      "\n",
      "\n",
      "The accuracy is: 0.6319631194775259\n",
      "\n",
      "\n",
      "\n",
      "\n"
     ]
    }
   ],
   "source": [
    "# 3\n",
    "from sklearn.metrics import accuracy_score as acs\n",
    "\n",
    "acs = acs(test_df_target,target_pred)\n",
    "accuracy_record[\"Complement Naive Bayes\"] = acs\n",
    "print(\"\\n\")\n",
    "print(\"\\n\")\n",
    "print(\"The accuracy is: \"+str(acs))\n",
    "print(\"\\n\")\n",
    "print(\"\\n\")"
   ]
  },
  {
   "cell_type": "markdown",
   "metadata": {
    "id": "faSI1b8WRSLl"
   },
   "source": [
    "## Categorical Naive Bayes\n",
    "\n",
    "\n",
    "\n",
    "1.   Training Sample \n",
    "2.   Testing Sample\n",
    "3.   Recording accuracy of Categorical Naive Bayes in accuracy record\n",
    "\n"
   ]
  },
  {
   "cell_type": "code",
   "execution_count": 57,
   "metadata": {
    "colab": {
     "base_uri": "https://localhost:8080/"
    },
    "id": "4gCFHrNxRfe5",
    "outputId": "1902bf93-71f7-4763-d758-e07e71711bf8"
   },
   "outputs": [
    {
     "data": {
      "text/plain": [
       "CategoricalNB()"
      ]
     },
     "execution_count": 57,
     "metadata": {},
     "output_type": "execute_result"
    }
   ],
   "source": [
    "# 1\n",
    "from sklearn.naive_bayes import CategoricalNB\n",
    "\n",
    "catnb = CategoricalNB()\n",
    "\n",
    "# training the sample\n",
    "catnb.fit(train_df_vector,train_df_target)"
   ]
  },
  {
   "cell_type": "code",
   "execution_count": 58,
   "metadata": {
    "id": "m8FBlyI1Rg5p"
   },
   "outputs": [],
   "source": [
    "#2\n",
    "\n",
    "#testing the sample\n",
    "\n",
    "target_pred = cnb.predict(test_df_vector)\n"
   ]
  },
  {
   "cell_type": "code",
   "execution_count": 59,
   "metadata": {
    "colab": {
     "base_uri": "https://localhost:8080/"
    },
    "id": "uRHIEI_7RiX5",
    "outputId": "4dd0790a-1d49-4034-e1c3-1b2879fa6a12"
   },
   "outputs": [
    {
     "name": "stdout",
     "output_type": "stream",
     "text": [
      "\n",
      "\n",
      "\n",
      "\n",
      "The accuracy is: 0.6319631194775259\n",
      "\n",
      "\n",
      "\n",
      "\n"
     ]
    }
   ],
   "source": [
    "# 3\n",
    "from sklearn.metrics import accuracy_score as acs\n",
    "\n",
    "acs = acs(test_df_target,target_pred)\n",
    "accuracy_record[\"Categorical Naive Bayes\"] = acs\n",
    "print(\"\\n\")\n",
    "print(\"\\n\")\n",
    "print(\"The accuracy is: \"+str(acs))\n",
    "print(\"\\n\")\n",
    "print(\"\\n\")"
   ]
  },
  {
   "cell_type": "markdown",
   "metadata": {
    "id": "cv-028w9sSME"
   },
   "source": [
    "## Accuracy values"
   ]
  },
  {
   "cell_type": "code",
   "execution_count": 60,
   "metadata": {
    "colab": {
     "base_uri": "https://localhost:8080/"
    },
    "id": "C6pHUX5hsQ-i",
    "outputId": "06032ed2-2dfe-4b1f-a237-ee516d33cf40"
   },
   "outputs": [
    {
     "name": "stdout",
     "output_type": "stream",
     "text": [
      "{'Gaussian Naive Bayes': 0.37879369957741066, 'Multinomial Naive Bayes': 0.5843257779485209, 'Complement Naive Bayes': 0.6319631194775259, 'Categorical Naive Bayes': 0.6319631194775259}\n"
     ]
    }
   ],
   "source": [
    "print(accuracy_record)"
   ]
  },
  {
   "cell_type": "markdown",
   "metadata": {
    "id": "y5MoUmt4c9v6"
   },
   "source": [
    "## K-Means Clustering\n",
    "\n",
    "Both train_df_vector and test_df_vector will be passed through unlabelled. Afterwards using the Elbow method, an optimal number of clusters will be calculated to group the data examples.\n",
    "\n"
   ]
  },
  {
   "cell_type": "code",
   "execution_count": 61,
   "metadata": {
    "id": "TZHZ5cG9c-TJ"
   },
   "outputs": [],
   "source": [
    "from sklearn.cluster import KMeans\n",
    "\n",
    "wcss = []\n",
    "\n",
    "for i in range(1,17):\n",
    "  k_means = KMeans(n_clusters=i, init ='k-means++', max_iter=100,  n_init=10,random_state=0 )\n",
    "\n",
    "  k_means.fit(train_df_vector)\n",
    "\n",
    "  wcss.append(k_means.inertia_)"
   ]
  },
  {
   "cell_type": "code",
   "execution_count": 62,
   "metadata": {
    "colab": {
     "base_uri": "https://localhost:8080/",
     "height": 294
    },
    "id": "jtZvgxkjc_Hv",
    "outputId": "df5192b1-1593-4b14-c1b1-e2cc8c79f397"
   },
   "outputs": [
    {
     "data": {
      "image/png": "[encoded data removed]",
      "text/plain": [
       "<Figure size 432x288 with 1 Axes>"
      ]
     },
     "metadata": {
      "needs_background": "light"
     },
     "output_type": "display_data"
    }
   ],
   "source": [
    "plt.plot(range(1,17),wcss)\n",
    "plt.title(\"Elbow Method Graph\")\n",
    "plt.xlabel(\"Number of clusters\")\n",
    "plt.ylabel(\"WCSS value\")\n",
    "plt.show()"
   ]
  },
  {
   "cell_type": "markdown",
   "metadata": {
    "id": "FLUKiCIi8SwB"
   },
   "source": [
    "\n",
    "The elbow method lets us find out the optimal number of clusters by identifying the point at which the graph started to decrease linearly. In this case, the k value is likely to be 4."
   ]
  },
  {
   "cell_type": "code",
   "execution_count": 63,
   "metadata": {
    "id": "48CwSH6LvQeo"
   },
   "outputs": [],
   "source": [
    "k_means = KMeans(n_clusters = 4,init ='k-means++', max_iter=100,  n_init=10,random_state=0)\n",
    "\n",
    "y_kmeans = k_means.fit_predict(test_df_vector)"
   ]
  },
  {
   "cell_type": "code",
   "execution_count": 64,
   "metadata": {
    "colab": {
     "base_uri": "https://localhost:8080/",
     "height": 265
    },
    "id": "Derb4Zs01mRf",
    "outputId": "3b5f02fb-fcda-4e22-a934-b4515745f95f"
   },
   "outputs": [
    {
     "data": {
      "image/png": "[encoded data removed]",
      "text/plain": [
       "<Figure size 432x288 with 1 Axes>"
      ]
     },
     "metadata": {},
     "output_type": "display_data"
    }
   ],
   "source": [
    "plt.scatter(test_df_vector[y_kmeans==0, 0], test_df_vector[y_kmeans==0, 1], s=100, c='red', label ='Cluster 1')\n",
    "plt.scatter(test_df_vector[y_kmeans==1, 0], test_df_vector[y_kmeans==1, 1], s=100, c='blue', label ='Cluster 2')\n",
    "plt.scatter(test_df_vector[y_kmeans==2, 0], test_df_vector[y_kmeans==2, 1], s=100, c='green', label ='Cluster 3')\n",
    "plt.scatter(test_df_vector[y_kmeans==3, 0], test_df_vector[y_kmeans==3, 1], s=100, c='cyan', label ='Cluster 4')\n",
    "\n",
    "plt.scatter(k_means.cluster_centers_[:, 0], k_means.cluster_centers_[:, 1], s=300, c='yellow', label = 'Centroids')\n",
    "#plt.xticks(color='w')\n",
    "plt.yticks(color='w')\n",
    "plt.show()\n"
   ]
  }
 ],
 "metadata": {
  "colab": {
   "collapsed_sections": [],
   "name": "Non_GridSearchCV_ML_Models.ipynb",
   "provenance": [],
   "toc_visible": true
  },
  "kernelspec": {
   "display_name": "Python 3",
   "language": "python",
   "name": "python3"
  },
  "language_info": {
   "codemirror_mode": {
    "name": "ipython",
    "version": 3
   },
   "file_extension": ".py",
   "mimetype": "text/x-python",
   "name": "python",
   "nbconvert_exporter": "python",
   "pygments_lexer": "ipython3",
   "version": "3.7.4"
  }
 },
 "nbformat": 4,
 "nbformat_minor": 1
}
